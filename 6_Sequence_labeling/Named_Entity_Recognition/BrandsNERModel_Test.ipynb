{
  "cells": [
    {
      "cell_type": "markdown",
      "metadata": {
        "id": "view-in-github",
        "colab_type": "text"
      },
      "source": [
        "<a href=\"https://colab.research.google.com/github/onlyabhilash/NLP-Projects/blob/main/6_Sequence_labeling/Named_Entity_Recognition/BrandsNERModel_Test.ipynb\" target=\"_parent\"><img src=\"https://colab.research.google.com/assets/colab-badge.svg\" alt=\"Open In Colab\"/></a>"
      ]
    },
    {
      "cell_type": "code",
      "execution_count": null,
      "metadata": {
        "id": "rDl3Q_0FpiQw"
      },
      "outputs": [],
      "source": [
        "# %load test.py\n",
        "\n",
        "import tensorflow as tf\n",
        "import os\n",
        "import pickle\n",
        "\n",
        "from utils_io import load_config, input_from_line\n",
        "from model import BrandsNERModel\n",
        "\n",
        "def create_model(session, Model_class, path, config):\n",
        "    # create model\n",
        "    model = Model_class(config)\n",
        "    # reuse parameters if exists\n",
        "    ckpt = tf.train.get_checkpoint_state(path)\n",
        "    if ckpt and tf.train.checkpoint_exists(ckpt.model_checkpoint_path):\n",
        "        print('Reading model parameters from %s' % ckpt.model_checkpoint_path)\n",
        "        model.saver.restore(session, ckpt.model_checkpoint_path)\n",
        "    else:\n",
        "        raise ValueError('No model found!')\n",
        "    return model\n",
        "\n",
        "\n",
        "def test(maps_file_name, config_file_name, model_path):\n",
        "    config = load_config(config_file_name)\n",
        "\n",
        "    tf_config = tf.ConfigProto()\n",
        "    tf_config.gpu_options.allow_growth = True\n",
        "\n",
        "    with open(maps_file_name, 'rb') as f:\n",
        "        char_to_id, id_to_char, tag_to_id, id_to_tag = pickle.load(f)\n",
        "\n",
        "    with tf.Session(config=tf_config) as sess:\n",
        "        model = create_model(sess, BrandsNERModel, model_path, config)\n",
        "        while True:\n",
        "            line = input('请输入测试句子:')\n",
        "            result = model.evaluate_line(sess, input_from_line(line, char_to_id), id_to_tag)\n",
        "            print(result)\n",
        "\n",
        "if __name__ == '__main__':\n",
        "    maps_file_name = os.path.join('data', 'maps.pkl')\n",
        "    config_file_name = os.path.join('data', 'BrandsNERModel.config')\n",
        "    model_path = 'checkpoints'\n",
        "    test(maps_file_name, config_file_name, model_path)"
      ]
    },
    {
      "cell_type": "code",
      "execution_count": null,
      "metadata": {
        "collapsed": true,
        "scrolled": true,
        "id": "7QJipFa3piQ2"
      },
      "outputs": [],
      "source": [
        ""
      ]
    }
  ],
  "metadata": {
    "kernelspec": {
      "display_name": "Python 3",
      "language": "python",
      "name": "python3"
    },
    "language_info": {
      "codemirror_mode": {
        "name": "ipython",
        "version": 3
      },
      "file_extension": ".py",
      "mimetype": "text/x-python",
      "name": "python",
      "nbconvert_exporter": "python",
      "pygments_lexer": "ipython3",
      "version": "3.5.3"
    },
    "colab": {
      "name": "BrandsNERModel_Test.ipynb",
      "provenance": [],
      "include_colab_link": true
    }
  },
  "nbformat": 4,
  "nbformat_minor": 0
}